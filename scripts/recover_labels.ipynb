{
 "cells": [
  {
   "cell_type": "markdown",
   "id": "abbf88e0-3be1-4300-a62b-b4f9292c9da0",
   "metadata": {},
   "source": [
    "This notebook converts label values from the tracked and registered labels back to the original labels so that the original segmentations can be used for training TrackAstra"
   ]
  },
  {
   "cell_type": "code",
   "execution_count": 1,
   "id": "2bdfe275-e4aa-4c63-9ea2-6f6e7e721c25",
   "metadata": {},
   "outputs": [],
   "source": [
    "from dataclasses import dataclass\n",
    "import glob\n",
    "import os\n",
    "import pickle\n",
    "\n",
    "import networkx as nx\n",
    "import numpy as np\n",
    "from scipy import stats\n",
    "from skimage.io import imread"
   ]
  },
  {
   "cell_type": "code",
   "execution_count": 2,
   "id": "45aaf1f3-6eba-48a8-91c8-d4f9d21632e8",
   "metadata": {},
   "outputs": [],
   "source": [
    "def load_images(\n",
    "    directory_path: os.PathLike,\n",
    "    name_pattern: str\n",
    ") -> np.ndarray:\n",
    "    n_files = len(glob.glob(os.path.join(directory_path, \"*.tif\")))\n",
    "\n",
    "    images = []\n",
    "    for t_index in range(n_files):\n",
    "        file_name = name_pattern.format(t_index)\n",
    "        file_path = os.path.join(directory_path, file_name)\n",
    "        images.append(imread(file_path))\n",
    "\n",
    "    return np.stack(images)"
   ]
  },
  {
   "cell_type": "code",
   "execution_count": 3,
   "id": "838a7014-93b3-47b2-9177-deab228fffdb",
   "metadata": {},
   "outputs": [],
   "source": [
    "@dataclass\n",
    "class DataToConvert:\n",
    "    tracked_segmentation_directory: str\n",
    "    registered_segmentation_directory: str\n",
    "    graph_path: str\n",
    "    base_name: str"
   ]
  },
  {
   "cell_type": "code",
   "execution_count": 4,
   "id": "17064f99-cb1e-475c-a5e5-0cdc2d42ddcf",
   "metadata": {},
   "outputs": [],
   "source": [
    "all_datasets = [\n",
    "    DataToConvert(\n",
    "        tracked_segmentation_directory = \"/local1/early_embryo/mzg_20240424/track_pre_processed/relabeled_segmentation\",\n",
    "        registered_segmentation_directory = \"/local1/early_embryo/mzg_20240424/registered\",\n",
    "        graph_path = \"/nas/groups/iber/Projects/Embryo_parameter_estimation/old/process_all_opticell3d_20240812/track_old/embryo_3/curated_graph.pkl\",\n",
    "        base_name = \"embryo3\"\n",
    "    ),\n",
    "    DataToConvert(\n",
    "        tracked_segmentation_directory = \"/local1/early_embryo/mzg_20240424/process_all/track_dual/embryo4/relabeled_segmentation\",\n",
    "        registered_segmentation_directory = \"/local1/early_embryo/mzg_20240424/process_all/registered_dual/embryo4\",\n",
    "        graph_path = \"/local1/early_embryo/mzg_20240424/process_all/track_dual/embryo4/curated_graph.pkl\",\n",
    "        base_name = \"embryo4\"\n",
    "    ),\n",
    "    DataToConvert(\n",
    "        tracked_segmentation_directory = \"/local1/early_embryo/mzg_20240424/process_all/track_dual/embryo5/relabeled_segmentation\",\n",
    "        registered_segmentation_directory = \"/local1/early_embryo/mzg_20240424/process_all/registered_dual/embryo5\",\n",
    "        graph_path = \"/local1/early_embryo/mzg_20240424/process_all/track_dual/embryo5/curated_graph.pkl\",\n",
    "        base_name = \"embryo5\"\n",
    "    ),\n",
    "    DataToConvert(\n",
    "        tracked_segmentation_directory = \"/local1/early_embryo/mzg_20240424/process_all/track_dual/embryo6/relabeled_segmentation\",\n",
    "        registered_segmentation_directory = \"/local1/early_embryo/mzg_20240424/process_all/registered_dual/embryo6\",\n",
    "        graph_path = \"/local1/early_embryo/mzg_20240424/process_all/track_dual/embryo6/curated_graph.pkl\",\n",
    "        base_name = \"embryo6\"\n",
    "    ),\n",
    "]"
   ]
  },
  {
   "cell_type": "code",
   "execution_count": 5,
   "id": "76a6231b-d99b-4b3e-be5b-eb1d0fb27b51",
   "metadata": {},
   "outputs": [
    {
     "name": "stdout",
     "output_type": "stream",
     "text": [
      "embryo3 t 271, label 11 doesn't match: 0.9297030432539974\n",
      "embryo4 t 65, label 2 doesn't match: 0.8636196040614896\n",
      "embryo5 t 55, label 2 doesn't match: 0.8684102709266033\n",
      "embryo5 t 261, label 4 doesn't match: 0.7172352818805908\n",
      "embryo5 t 262, label 4 doesn't match: 0.6803183977404031\n",
      "embryo5 t 263, label 4 doesn't match: 0.6173089233132761\n",
      "embryo5 t 264, label 4 doesn't match: 0.6427324088341038\n",
      "embryo5 t 265, label 4 doesn't match: 0.7205934839137307\n",
      "embryo5 t 268, label 4 doesn't match: 0.8591757770910696\n",
      "embryo5 t 271, label 4 doesn't match: 0.7264249231316545\n",
      "embryo5 t 232, label 4 doesn't match: 0.7267983600447261\n",
      "embryo5 t 255, label 12 doesn't match: 0.8530189062817646\n",
      "embryo5 t 260, label 12 doesn't match: 0.9332423609996254\n",
      "embryo5 t 270, label 15 doesn't match: 0.8365636927480916\n",
      "embryo6 t 250, label 7 doesn't match: 0.7433085184974711\n",
      "embryo6 t 240, label 8 doesn't match: 0.8201334850675115\n",
      "embryo6 t 273, label 8 doesn't match: 0.6648003445517751\n"
     ]
    }
   ],
   "source": [
    "for dataset in all_datasets:\n",
    "    tracked_segmentation_directory = dataset.tracked_segmentation_directory\n",
    "    registered_segmentation_directory = dataset.registered_segmentation_directory\n",
    "    graph_path = dataset.graph_path\n",
    "    base_name = dataset.base_name\n",
    "    \n",
    "    # load the images\n",
    "    tracked_segmentations = load_images(\n",
    "            directory_path=tracked_segmentation_directory,\n",
    "            name_pattern=base_name + \"_t_{}_tracked.tif\"\n",
    "    )\n",
    "    registered_segmentations = load_images(\n",
    "            directory_path=registered_segmentation_directory,\n",
    "            name_pattern=base_name + \"_t_{}_seg.tif\"\n",
    "    )\n",
    "    \n",
    "    # load the graph\n",
    "    with open(graph_path, \"rb\") as f:\n",
    "        graph = pickle.load(f)\n",
    "    \n",
    "    # iterate through the nodes\n",
    "    new_node_data = {}\n",
    "    for node, data in graph.nodes(data=True):\n",
    "        tracked_label = data[\"opticell_label\"]\n",
    "        time_index = int(data[\"t\"])\n",
    "    \n",
    "        tracked_time_point = tracked_segmentations[time_index, ...]\n",
    "        registered_time_point = registered_segmentations[time_index, ...]\n",
    "    \n",
    "        registered_labels = registered_time_point[tracked_time_point == tracked_label]\n",
    "    \n",
    "        # get the most common label\n",
    "        mode_results = stats.mode(registered_labels)\n",
    "        registered_label_value = mode_results.mode\n",
    "        mode_count = mode_results.count\n",
    "        fraction_overlap = mode_count / len(registered_labels)\n",
    "        if fraction_overlap < 0.95:\n",
    "            print(f\"{base_name} t {time_index}, label {tracked_label} doesn't match: {fraction_overlap}\")\n",
    "    \n",
    "        # add the new label to the node data\n",
    "        data[\"original_label\"] = registered_label_value\n",
    "        new_node_data[node] = data\n",
    "    \n",
    "    # update and save the graph\n",
    "    nx.set_node_attributes(graph, new_node_data)\n",
    "    with open(f\"{base_name}_curated_graph.pkl\", \"wb\") as f:\n",
    "        pickle.dump(graph, f)"
   ]
  },
  {
   "cell_type": "code",
   "execution_count": null,
   "id": "7904d8b4-540d-4c84-9003-a29cb948e4fc",
   "metadata": {},
   "outputs": [],
   "source": []
  }
 ],
 "metadata": {
  "kernelspec": {
   "display_name": "Python 3 (ipykernel)",
   "language": "python",
   "name": "python3"
  },
  "language_info": {
   "codemirror_mode": {
    "name": "ipython",
    "version": 3
   },
   "file_extension": ".py",
   "mimetype": "text/x-python",
   "name": "python",
   "nbconvert_exporter": "python",
   "pygments_lexer": "ipython3",
   "version": "3.10.13"
  }
 },
 "nbformat": 4,
 "nbformat_minor": 5
}
